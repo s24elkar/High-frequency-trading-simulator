{
 "cells": [
  {
   "cell_type": "markdown",
   "metadata": {},
   "source": [
    "# Binance BTCUSDT Day 14 – Trade Cleaning\n",
    "Notebook scaffold to verify aggressor logic (is_buyer_maker) and export cleaned trades to `data/binance/binance_btcusdt_trades_2025-09-19_21.parquet`."
   ]
  },
  {
   "cell_type": "code",
   "execution_count": null,
   "metadata": {},
   "outputs": [],
   "source": [
    "import pandas as pd\n",
    "from pathlib import Path\n",
    "\n",
    "RAW_PATH = Path(\"data/binance/raw/binance_btcusdt_trades_2025-09-19_21.csv\")\n",
    "CLEAN_PATH = Path(\"data/binance/binance_btcusdt_trades_2025-09-19_21.parquet\")\n",
    "\n",
    "# TODO: load, validate aggressor flag, derive 'side' column, convert timestamps, and persist Parquet."
   ]
  }
 ],
 "metadata": {
  "kernelspec": {
   "display_name": "Python 3",
   "language": "python",
   "name": "python3"
  },
  "language_info": {
   "name": "python",
   "version": "3.10"
  }
 },
 "nbformat": 4,
 "nbformat_minor": 5
}
